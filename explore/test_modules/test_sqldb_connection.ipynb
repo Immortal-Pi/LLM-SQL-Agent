{
 "cells": [
  {
   "cell_type": "markdown",
   "metadata": {},
   "source": [
    "# test SQL connection "
   ]
  },
  {
   "cell_type": "code",
   "execution_count": 1,
   "metadata": {},
   "outputs": [],
   "source": [
    "from pyprojroot import here\n",
    "db_path=str(here('data'))+'/sqldb.db'"
   ]
  },
  {
   "cell_type": "code",
   "execution_count": 3,
   "metadata": {},
   "outputs": [
    {
     "name": "stdout",
     "output_type": "stream",
     "text": [
      "sqlite\n",
      "['Album', 'Artist', 'Customer', 'Employee', 'Genre', 'Invoice', 'InvoiceLine', 'MediaType', 'Playlist', 'PlaylistTrack', 'Track']\n"
     ]
    },
    {
     "data": {
      "text/plain": [
       "\"[(1, 'Adams', 'Andrew', 'General Manager', None, '1962-02-18 00:00:00', '2002-08-14 00:00:00', '11120 Jasper Ave NW', 'Edmonton', 'AB', 'Canada', 'T5K 2N1', '+1 (780) 428-9482', '+1 (780) 428-3457', 'andrew@chinookcorp.com'), (2, 'Edwards', 'Nancy', 'Sales Manager', 1, '1958-12-08 00:00:00', '2002-05-01 00:00:00', '825 8 Ave SW', 'Calgary', 'AB', 'Canada', 'T2P 2T3', '+1 (403) 262-3443', '+1 (403) 262-3322', 'nancy@chinookcorp.com'), (3, 'Peacock', 'Jane', 'Sales Support Agent', 2, '1973-08-29 00:00:00', '2002-04-01 00:00:00', '1111 6 Ave SW', 'Calgary', 'AB', 'Canada', 'T2P 5M5', '+1 (403) 262-3443', '+1 (403) 262-6712', 'jane@chinookcorp.com'), (4, 'Park', 'Margaret', 'Sales Support Agent', 2, '1947-09-19 00:00:00', '2003-05-03 00:00:00', '683 10 Street SW', 'Calgary', 'AB', 'Canada', 'T2P 5G3', '+1 (403) 263-4423', '+1 (403) 263-4289', 'margaret@chinookcorp.com'), (5, 'Johnson', 'Steve', 'Sales Support Agent', 2, '1965-03-03 00:00:00', '2003-10-17 00:00:00', '7727B 41 Ave', 'Calgary', 'AB', 'Canada', 'T3B 1Y7', '1 (780) 836-9987', '1 (780) 836-9543', 'steve@chinookcorp.com'), (6, 'Mitchell', 'Michael', 'IT Manager', 1, '1973-07-01 00:00:00', '2003-10-17 00:00:00', '5827 Bowness Road NW', 'Calgary', 'AB', 'Canada', 'T3B 0C5', '+1 (403) 246-9887', '+1 (403) 246-9899', 'michael@chinookcorp.com'), (7, 'King', 'Robert', 'IT Staff', 6, '1970-05-29 00:00:00', '2004-01-02 00:00:00', '590 Columbia Boulevard West', 'Lethbridge', 'AB', 'Canada', 'T1K 5N8', '+1 (403) 456-9986', '+1 (403) 456-8485', 'robert@chinookcorp.com'), (8, 'Callahan', 'Laura', 'IT Staff', 6, '1968-01-09 00:00:00', '2004-03-04 00:00:00', '923 7 ST NW', 'Lethbridge', 'AB', 'Canada', 'T1H 1Y8', '+1 (403) 467-3351', '+1 (403) 467-8772', 'laura@chinookcorp.com')]\""
      ]
     },
     "execution_count": 3,
     "metadata": {},
     "output_type": "execute_result"
    }
   ],
   "source": [
    "from langchain_community.utilities import SQLDatabase\n",
    "db=SQLDatabase.from_uri(f'sqlite:///{db_path}')\n",
    "print(db.dialect)\n",
    "print(db.get_usable_table_names())\n",
    "db.run('select * from employee limit 10')"
   ]
  },
  {
   "cell_type": "markdown",
   "metadata": {},
   "source": [
    "# inspect the sql database"
   ]
  },
  {
   "cell_type": "code",
   "execution_count": 12,
   "metadata": {},
   "outputs": [
    {
     "name": "stdout",
     "output_type": "stream",
     "text": [
      "['Album', 'Artist', 'Customer', 'Employee', 'Genre', 'Invoice', 'InvoiceLine', 'MediaType', 'Playlist', 'PlaylistTrack', 'Track']\n",
      "Information for table: Album\n",
      "Schema:['main']\n",
      "Column:AlbumId type: INTEGER\n",
      "Column:Title type: NVARCHAR(160)\n",
      "Column:ArtistId type: INTEGER\n",
      "Primary key Constraint:{'constrained_columns': ['AlbumId'], 'name': None}\n",
      "Foreign keys:[{'name': None, 'constrained_columns': ['ArtistId'], 'referred_schema': None, 'referred_table': 'Artist', 'referred_columns': ['ArtistId'], 'options': {}}]\n",
      "Information for table: Artist\n",
      "Schema:['main']\n",
      "Column:ArtistId type: INTEGER\n",
      "Column:Name type: NVARCHAR(120)\n",
      "Primary key Constraint:{'constrained_columns': ['ArtistId'], 'name': None}\n",
      "Foreign keys:[]\n",
      "Information for table: Customer\n",
      "Schema:['main']\n",
      "Column:CustomerId type: INTEGER\n",
      "Column:FirstName type: NVARCHAR(40)\n",
      "Column:LastName type: NVARCHAR(20)\n",
      "Column:Company type: NVARCHAR(80)\n",
      "Column:Address type: NVARCHAR(70)\n",
      "Column:City type: NVARCHAR(40)\n",
      "Column:State type: NVARCHAR(40)\n",
      "Column:Country type: NVARCHAR(40)\n",
      "Column:PostalCode type: NVARCHAR(10)\n",
      "Column:Phone type: NVARCHAR(24)\n",
      "Column:Fax type: NVARCHAR(24)\n",
      "Column:Email type: NVARCHAR(60)\n",
      "Column:SupportRepId type: INTEGER\n",
      "Primary key Constraint:{'constrained_columns': ['CustomerId'], 'name': None}\n",
      "Foreign keys:[{'name': None, 'constrained_columns': ['SupportRepId'], 'referred_schema': None, 'referred_table': 'Employee', 'referred_columns': ['EmployeeId'], 'options': {}}]\n",
      "Information for table: Employee\n",
      "Schema:['main']\n",
      "Column:EmployeeId type: INTEGER\n",
      "Column:LastName type: NVARCHAR(20)\n",
      "Column:FirstName type: NVARCHAR(20)\n",
      "Column:Title type: NVARCHAR(30)\n",
      "Column:ReportsTo type: INTEGER\n",
      "Column:BirthDate type: DATETIME\n",
      "Column:HireDate type: DATETIME\n",
      "Column:Address type: NVARCHAR(70)\n",
      "Column:City type: NVARCHAR(40)\n",
      "Column:State type: NVARCHAR(40)\n",
      "Column:Country type: NVARCHAR(40)\n",
      "Column:PostalCode type: NVARCHAR(10)\n",
      "Column:Phone type: NVARCHAR(24)\n",
      "Column:Fax type: NVARCHAR(24)\n",
      "Column:Email type: NVARCHAR(60)\n",
      "Primary key Constraint:{'constrained_columns': ['EmployeeId'], 'name': None}\n",
      "Foreign keys:[{'name': None, 'constrained_columns': ['ReportsTo'], 'referred_schema': None, 'referred_table': 'Employee', 'referred_columns': ['EmployeeId'], 'options': {}}]\n",
      "Information for table: Genre\n",
      "Schema:['main']\n",
      "Column:GenreId type: INTEGER\n",
      "Column:Name type: NVARCHAR(120)\n",
      "Primary key Constraint:{'constrained_columns': ['GenreId'], 'name': None}\n",
      "Foreign keys:[]\n",
      "Information for table: Invoice\n",
      "Schema:['main']\n",
      "Column:InvoiceId type: INTEGER\n",
      "Column:CustomerId type: INTEGER\n",
      "Column:InvoiceDate type: DATETIME\n",
      "Column:BillingAddress type: NVARCHAR(70)\n",
      "Column:BillingCity type: NVARCHAR(40)\n",
      "Column:BillingState type: NVARCHAR(40)\n",
      "Column:BillingCountry type: NVARCHAR(40)\n",
      "Column:BillingPostalCode type: NVARCHAR(10)\n",
      "Column:Total type: NUMERIC(10, 2)\n",
      "Primary key Constraint:{'constrained_columns': ['InvoiceId'], 'name': None}\n",
      "Foreign keys:[{'name': None, 'constrained_columns': ['CustomerId'], 'referred_schema': None, 'referred_table': 'Customer', 'referred_columns': ['CustomerId'], 'options': {}}]\n",
      "Information for table: InvoiceLine\n",
      "Schema:['main']\n",
      "Column:InvoiceLineId type: INTEGER\n",
      "Column:InvoiceId type: INTEGER\n",
      "Column:TrackId type: INTEGER\n",
      "Column:UnitPrice type: NUMERIC(10, 2)\n",
      "Column:Quantity type: INTEGER\n",
      "Primary key Constraint:{'constrained_columns': ['InvoiceLineId'], 'name': None}\n",
      "Foreign keys:[{'name': None, 'constrained_columns': ['TrackId'], 'referred_schema': None, 'referred_table': 'Track', 'referred_columns': ['TrackId'], 'options': {}}, {'name': None, 'constrained_columns': ['InvoiceId'], 'referred_schema': None, 'referred_table': 'Invoice', 'referred_columns': ['InvoiceId'], 'options': {}}]\n",
      "Information for table: MediaType\n",
      "Schema:['main']\n",
      "Column:MediaTypeId type: INTEGER\n",
      "Column:Name type: NVARCHAR(120)\n",
      "Primary key Constraint:{'constrained_columns': ['MediaTypeId'], 'name': None}\n",
      "Foreign keys:[]\n",
      "Information for table: Playlist\n",
      "Schema:['main']\n",
      "Column:PlaylistId type: INTEGER\n",
      "Column:Name type: NVARCHAR(120)\n",
      "Primary key Constraint:{'constrained_columns': ['PlaylistId'], 'name': None}\n",
      "Foreign keys:[]\n",
      "Information for table: PlaylistTrack\n",
      "Schema:['main']\n",
      "Column:PlaylistId type: INTEGER\n",
      "Column:TrackId type: INTEGER\n",
      "Primary key Constraint:{'constrained_columns': ['PlaylistId', 'TrackId'], 'name': None}\n",
      "Foreign keys:[{'name': None, 'constrained_columns': ['TrackId'], 'referred_schema': None, 'referred_table': 'Track', 'referred_columns': ['TrackId'], 'options': {}}, {'name': None, 'constrained_columns': ['PlaylistId'], 'referred_schema': None, 'referred_table': 'Playlist', 'referred_columns': ['PlaylistId'], 'options': {}}]\n",
      "Information for table: Track\n",
      "Schema:['main']\n",
      "Column:TrackId type: INTEGER\n",
      "Column:Name type: NVARCHAR(200)\n",
      "Column:AlbumId type: INTEGER\n",
      "Column:MediaTypeId type: INTEGER\n",
      "Column:GenreId type: INTEGER\n",
      "Column:Composer type: NVARCHAR(220)\n",
      "Column:Milliseconds type: INTEGER\n",
      "Column:Bytes type: INTEGER\n",
      "Column:UnitPrice type: NUMERIC(10, 2)\n",
      "Primary key Constraint:{'constrained_columns': ['TrackId'], 'name': None}\n",
      "Foreign keys:[{'name': None, 'constrained_columns': ['MediaTypeId'], 'referred_schema': None, 'referred_table': 'MediaType', 'referred_columns': ['MediaTypeId'], 'options': {}}, {'name': None, 'constrained_columns': ['GenreId'], 'referred_schema': None, 'referred_table': 'Genre', 'referred_columns': ['GenreId'], 'options': {}}, {'name': None, 'constrained_columns': ['AlbumId'], 'referred_schema': None, 'referred_table': 'Album', 'referred_columns': ['AlbumId'], 'options': {}}]\n"
     ]
    }
   ],
   "source": [
    "from sqlalchemy import create_engine,inspect\n",
    "\n",
    "engine=create_engine(f'sqlite:///{db_path}')\n",
    "connection=engine.connect()\n",
    "inspector=inspect(engine)\n",
    "\n",
    "table_name=inspector.get_table_names()\n",
    "print(table_name)\n",
    "\n",
    "for table_name in table_name:\n",
    "    print(f'Information for table: {table_name}')\n",
    "    print(f'Schema:{inspector.get_schema_names()}')\n",
    "    columns=inspector.get_columns(table_name)\n",
    "    for column in columns:\n",
    "        print(f\"Column:{column['name']} type: {column['type']}\")\n",
    "    pk_constraint=inspector.get_pk_constraint(table_name)\n",
    "    print(f'Primary key Constraint:{pk_constraint}')\n",
    "    foreign_keys=inspector.get_foreign_keys(table_name)\n",
    "    print(f'Foreign keys:{foreign_keys}')"
   ]
  },
  {
   "cell_type": "markdown",
   "metadata": {},
   "source": []
  }
 ],
 "metadata": {
  "kernelspec": {
   "display_name": "pytorch",
   "language": "python",
   "name": "python3"
  },
  "language_info": {
   "codemirror_mode": {
    "name": "ipython",
    "version": 3
   },
   "file_extension": ".py",
   "mimetype": "text/x-python",
   "name": "python",
   "nbconvert_exporter": "python",
   "pygments_lexer": "ipython3",
   "version": "3.9.19"
  }
 },
 "nbformat": 4,
 "nbformat_minor": 2
}
