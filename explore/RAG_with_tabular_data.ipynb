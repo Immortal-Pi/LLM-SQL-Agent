{
 "cells": [
  {
   "cell_type": "markdown",
   "metadata": {},
   "source": [
    "# testing RAG with sql databases"
   ]
  },
  {
   "cell_type": "code",
   "execution_count": 1,
   "metadata": {},
   "outputs": [
    {
     "name": "stdout",
     "output_type": "stream",
     "text": [
      "Load environment variables:True\n"
     ]
    }
   ],
   "source": [
    "import os \n",
    "from pyprojroot import here\n",
    "import chromadb\n",
    "from openai import AzureOpenAI\n",
    "import warnings\n",
    "import pandas as pd\n",
    "\n",
    "warnings.filterwarnings('ignore')\n",
    "from dotenv import load_dotenv\n",
    "\n",
    "print(f'Load environment variables:{load_dotenv()}')\n"
   ]
  },
  {
   "cell_type": "code",
   "execution_count": 2,
   "metadata": {},
   "outputs": [],
   "source": [
    "azure_open_api_key=os.getenv('AZURE_OPENAI_API_KEY')\n",
    "azure_openai_endpoint=os.getenv('AZURE_OpenAI_ENDPOINT')\n",
    "azure_openai_api_version=os.getenv('AZURE_OpenAI_API_VERSION')"
   ]
  },
  {
   "cell_type": "code",
   "execution_count": 3,
   "metadata": {},
   "outputs": [],
   "source": [
    "azure_client=AzureOpenAI(\n",
    "    api_key=azure_open_api_key,\n",
    "    api_version=azure_openai_api_version,\n",
    "    azure_endpoint=azure_openai_endpoint\n",
    ")\n",
    "\n",
    "chroma_client=chromadb.PersistentClient(path=str(here('data/chroma')))"
   ]
  },
  {
   "cell_type": "markdown",
   "metadata": {},
   "source": [
    "# create a collection of data injection"
   ]
  },
  {
   "cell_type": "code",
   "execution_count": 4,
   "metadata": {},
   "outputs": [],
   "source": [
    "# collection = chroma_client.create_collection(name='titanic_small')\n",
    "collection=chroma_client.create_collection(name='titanic_small')\n"
   ]
  },
  {
   "cell_type": "code",
   "execution_count": 5,
   "metadata": {},
   "outputs": [],
   "source": [
    "file_dir=here('data/for_upload/titanic_small.csv')\n",
    "df=pd.read_csv(file_dir)"
   ]
  },
  {
   "cell_type": "code",
   "execution_count": 6,
   "metadata": {},
   "outputs": [
    {
     "data": {
      "text/html": [
       "<div>\n",
       "<style scoped>\n",
       "    .dataframe tbody tr th:only-of-type {\n",
       "        vertical-align: middle;\n",
       "    }\n",
       "\n",
       "    .dataframe tbody tr th {\n",
       "        vertical-align: top;\n",
       "    }\n",
       "\n",
       "    .dataframe thead th {\n",
       "        text-align: right;\n",
       "    }\n",
       "</style>\n",
       "<table border=\"1\" class=\"dataframe\">\n",
       "  <thead>\n",
       "    <tr style=\"text-align: right;\">\n",
       "      <th></th>\n",
       "      <th>Survived</th>\n",
       "      <th>Pclass</th>\n",
       "      <th>Name</th>\n",
       "      <th>Sex</th>\n",
       "      <th>Age</th>\n",
       "      <th>Siblings/Spouses Aboard</th>\n",
       "      <th>Parents/Children Aboard</th>\n",
       "      <th>Fare</th>\n",
       "    </tr>\n",
       "  </thead>\n",
       "  <tbody>\n",
       "    <tr>\n",
       "      <th>0</th>\n",
       "      <td>0</td>\n",
       "      <td>3</td>\n",
       "      <td>Mr. Owen Harris Braund</td>\n",
       "      <td>male</td>\n",
       "      <td>22</td>\n",
       "      <td>1</td>\n",
       "      <td>0</td>\n",
       "      <td>7.2500</td>\n",
       "    </tr>\n",
       "    <tr>\n",
       "      <th>1</th>\n",
       "      <td>1</td>\n",
       "      <td>1</td>\n",
       "      <td>Mrs. John Bradley (Florence Briggs Thayer) Cum...</td>\n",
       "      <td>female</td>\n",
       "      <td>38</td>\n",
       "      <td>1</td>\n",
       "      <td>0</td>\n",
       "      <td>71.2833</td>\n",
       "    </tr>\n",
       "    <tr>\n",
       "      <th>2</th>\n",
       "      <td>1</td>\n",
       "      <td>3</td>\n",
       "      <td>Miss. Laina Heikkinen</td>\n",
       "      <td>female</td>\n",
       "      <td>26</td>\n",
       "      <td>0</td>\n",
       "      <td>0</td>\n",
       "      <td>7.9250</td>\n",
       "    </tr>\n",
       "    <tr>\n",
       "      <th>3</th>\n",
       "      <td>1</td>\n",
       "      <td>1</td>\n",
       "      <td>Mrs. Jacques Heath (Lily May Peel) Futrelle</td>\n",
       "      <td>female</td>\n",
       "      <td>35</td>\n",
       "      <td>1</td>\n",
       "      <td>0</td>\n",
       "      <td>53.1000</td>\n",
       "    </tr>\n",
       "    <tr>\n",
       "      <th>4</th>\n",
       "      <td>0</td>\n",
       "      <td>3</td>\n",
       "      <td>Mr. William Henry Allen</td>\n",
       "      <td>male</td>\n",
       "      <td>35</td>\n",
       "      <td>0</td>\n",
       "      <td>0</td>\n",
       "      <td>8.0500</td>\n",
       "    </tr>\n",
       "  </tbody>\n",
       "</table>\n",
       "</div>"
      ],
      "text/plain": [
       "   Survived  Pclass                                               Name  \\\n",
       "0         0       3                             Mr. Owen Harris Braund   \n",
       "1         1       1  Mrs. John Bradley (Florence Briggs Thayer) Cum...   \n",
       "2         1       3                              Miss. Laina Heikkinen   \n",
       "3         1       1        Mrs. Jacques Heath (Lily May Peel) Futrelle   \n",
       "4         0       3                            Mr. William Henry Allen   \n",
       "\n",
       "      Sex  Age  Siblings/Spouses Aboard  Parents/Children Aboard     Fare  \n",
       "0    male   22                        1                        0   7.2500  \n",
       "1  female   38                        1                        0  71.2833  \n",
       "2  female   26                        0                        0   7.9250  \n",
       "3  female   35                        1                        0  53.1000  \n",
       "4    male   35                        0                        0   8.0500  "
      ]
     },
     "execution_count": 6,
     "metadata": {},
     "output_type": "execute_result"
    }
   ],
   "source": [
    "df.head()"
   ]
  },
  {
   "cell_type": "code",
   "execution_count": 7,
   "metadata": {},
   "outputs": [
    {
     "data": {
      "text/html": [
       "<div>\n",
       "<style scoped>\n",
       "    .dataframe tbody tr th:only-of-type {\n",
       "        vertical-align: middle;\n",
       "    }\n",
       "\n",
       "    .dataframe tbody tr th {\n",
       "        vertical-align: top;\n",
       "    }\n",
       "\n",
       "    .dataframe thead th {\n",
       "        text-align: right;\n",
       "    }\n",
       "</style>\n",
       "<table border=\"1\" class=\"dataframe\">\n",
       "  <thead>\n",
       "    <tr style=\"text-align: right;\">\n",
       "      <th></th>\n",
       "      <th>Survived</th>\n",
       "      <th>Pclass</th>\n",
       "      <th>Name</th>\n",
       "      <th>Sex</th>\n",
       "      <th>Age</th>\n",
       "      <th>Siblings/Spouses Aboard</th>\n",
       "      <th>Parents/Children Aboard</th>\n",
       "      <th>Fare</th>\n",
       "    </tr>\n",
       "  </thead>\n",
       "  <tbody>\n",
       "    <tr>\n",
       "      <th>0</th>\n",
       "      <td>0</td>\n",
       "      <td>3</td>\n",
       "      <td>Mr. Owen Harris Braund</td>\n",
       "      <td>male</td>\n",
       "      <td>22</td>\n",
       "      <td>1</td>\n",
       "      <td>0</td>\n",
       "      <td>7.2500</td>\n",
       "    </tr>\n",
       "    <tr>\n",
       "      <th>2</th>\n",
       "      <td>1</td>\n",
       "      <td>3</td>\n",
       "      <td>Miss. Laina Heikkinen</td>\n",
       "      <td>female</td>\n",
       "      <td>26</td>\n",
       "      <td>0</td>\n",
       "      <td>0</td>\n",
       "      <td>7.9250</td>\n",
       "    </tr>\n",
       "    <tr>\n",
       "      <th>4</th>\n",
       "      <td>0</td>\n",
       "      <td>3</td>\n",
       "      <td>Mr. William Henry Allen</td>\n",
       "      <td>male</td>\n",
       "      <td>35</td>\n",
       "      <td>0</td>\n",
       "      <td>0</td>\n",
       "      <td>8.0500</td>\n",
       "    </tr>\n",
       "    <tr>\n",
       "      <th>5</th>\n",
       "      <td>0</td>\n",
       "      <td>3</td>\n",
       "      <td>Mr. James Moran</td>\n",
       "      <td>male</td>\n",
       "      <td>27</td>\n",
       "      <td>0</td>\n",
       "      <td>0</td>\n",
       "      <td>8.4583</td>\n",
       "    </tr>\n",
       "    <tr>\n",
       "      <th>7</th>\n",
       "      <td>0</td>\n",
       "      <td>3</td>\n",
       "      <td>Master. Gosta Leonard Palsson</td>\n",
       "      <td>male</td>\n",
       "      <td>2</td>\n",
       "      <td>3</td>\n",
       "      <td>1</td>\n",
       "      <td>21.0750</td>\n",
       "    </tr>\n",
       "    <tr>\n",
       "      <th>8</th>\n",
       "      <td>1</td>\n",
       "      <td>3</td>\n",
       "      <td>Mrs. Oscar W (Elisabeth Vilhelmina Berg) Johnson</td>\n",
       "      <td>female</td>\n",
       "      <td>27</td>\n",
       "      <td>0</td>\n",
       "      <td>2</td>\n",
       "      <td>11.1333</td>\n",
       "    </tr>\n",
       "    <tr>\n",
       "      <th>10</th>\n",
       "      <td>1</td>\n",
       "      <td>3</td>\n",
       "      <td>Miss. Marguerite Rut Sandstrom</td>\n",
       "      <td>female</td>\n",
       "      <td>4</td>\n",
       "      <td>1</td>\n",
       "      <td>1</td>\n",
       "      <td>16.7000</td>\n",
       "    </tr>\n",
       "    <tr>\n",
       "      <th>12</th>\n",
       "      <td>0</td>\n",
       "      <td>3</td>\n",
       "      <td>Mr. William Henry Saundercock</td>\n",
       "      <td>male</td>\n",
       "      <td>20</td>\n",
       "      <td>0</td>\n",
       "      <td>0</td>\n",
       "      <td>8.0500</td>\n",
       "    </tr>\n",
       "    <tr>\n",
       "      <th>13</th>\n",
       "      <td>0</td>\n",
       "      <td>3</td>\n",
       "      <td>Mr. Anders Johan Andersson</td>\n",
       "      <td>male</td>\n",
       "      <td>39</td>\n",
       "      <td>1</td>\n",
       "      <td>5</td>\n",
       "      <td>31.2750</td>\n",
       "    </tr>\n",
       "    <tr>\n",
       "      <th>14</th>\n",
       "      <td>0</td>\n",
       "      <td>3</td>\n",
       "      <td>Miss. Hulda Amanda Adolfina Vestrom</td>\n",
       "      <td>female</td>\n",
       "      <td>14</td>\n",
       "      <td>0</td>\n",
       "      <td>0</td>\n",
       "      <td>7.8542</td>\n",
       "    </tr>\n",
       "    <tr>\n",
       "      <th>16</th>\n",
       "      <td>0</td>\n",
       "      <td>3</td>\n",
       "      <td>Master. Eugene Rice</td>\n",
       "      <td>male</td>\n",
       "      <td>2</td>\n",
       "      <td>4</td>\n",
       "      <td>1</td>\n",
       "      <td>29.1250</td>\n",
       "    </tr>\n",
       "    <tr>\n",
       "      <th>18</th>\n",
       "      <td>0</td>\n",
       "      <td>3</td>\n",
       "      <td>Mrs. Julius (Emelia Maria Vandemoortele) Vande...</td>\n",
       "      <td>female</td>\n",
       "      <td>31</td>\n",
       "      <td>1</td>\n",
       "      <td>0</td>\n",
       "      <td>18.0000</td>\n",
       "    </tr>\n",
       "    <tr>\n",
       "      <th>19</th>\n",
       "      <td>1</td>\n",
       "      <td>3</td>\n",
       "      <td>Mrs. Fatima Masselmani</td>\n",
       "      <td>female</td>\n",
       "      <td>22</td>\n",
       "      <td>0</td>\n",
       "      <td>0</td>\n",
       "      <td>7.2250</td>\n",
       "    </tr>\n",
       "    <tr>\n",
       "      <th>22</th>\n",
       "      <td>1</td>\n",
       "      <td>3</td>\n",
       "      <td>Miss. Anna McGowan</td>\n",
       "      <td>female</td>\n",
       "      <td>15</td>\n",
       "      <td>0</td>\n",
       "      <td>0</td>\n",
       "      <td>8.0292</td>\n",
       "    </tr>\n",
       "    <tr>\n",
       "      <th>24</th>\n",
       "      <td>0</td>\n",
       "      <td>3</td>\n",
       "      <td>Miss. Torborg Danira Palsson</td>\n",
       "      <td>female</td>\n",
       "      <td>8</td>\n",
       "      <td>3</td>\n",
       "      <td>1</td>\n",
       "      <td>21.0750</td>\n",
       "    </tr>\n",
       "    <tr>\n",
       "      <th>25</th>\n",
       "      <td>1</td>\n",
       "      <td>3</td>\n",
       "      <td>Mrs. Carl Oscar (Selma Augusta Emilia Johansso...</td>\n",
       "      <td>female</td>\n",
       "      <td>38</td>\n",
       "      <td>1</td>\n",
       "      <td>5</td>\n",
       "      <td>31.3875</td>\n",
       "    </tr>\n",
       "    <tr>\n",
       "      <th>26</th>\n",
       "      <td>0</td>\n",
       "      <td>3</td>\n",
       "      <td>Mr. Farred Chehab Emir</td>\n",
       "      <td>male</td>\n",
       "      <td>26</td>\n",
       "      <td>0</td>\n",
       "      <td>0</td>\n",
       "      <td>7.2250</td>\n",
       "    </tr>\n",
       "    <tr>\n",
       "      <th>28</th>\n",
       "      <td>1</td>\n",
       "      <td>3</td>\n",
       "      <td>Miss. Ellen O'Dwyer</td>\n",
       "      <td>female</td>\n",
       "      <td>24</td>\n",
       "      <td>0</td>\n",
       "      <td>0</td>\n",
       "      <td>7.8792</td>\n",
       "    </tr>\n",
       "    <tr>\n",
       "      <th>29</th>\n",
       "      <td>0</td>\n",
       "      <td>3</td>\n",
       "      <td>Mr. Lalio Todoroff</td>\n",
       "      <td>male</td>\n",
       "      <td>23</td>\n",
       "      <td>0</td>\n",
       "      <td>0</td>\n",
       "      <td>7.8958</td>\n",
       "    </tr>\n",
       "  </tbody>\n",
       "</table>\n",
       "</div>"
      ],
      "text/plain": [
       "    Survived  Pclass                                               Name  \\\n",
       "0          0       3                             Mr. Owen Harris Braund   \n",
       "2          1       3                              Miss. Laina Heikkinen   \n",
       "4          0       3                            Mr. William Henry Allen   \n",
       "5          0       3                                    Mr. James Moran   \n",
       "7          0       3                      Master. Gosta Leonard Palsson   \n",
       "8          1       3   Mrs. Oscar W (Elisabeth Vilhelmina Berg) Johnson   \n",
       "10         1       3                     Miss. Marguerite Rut Sandstrom   \n",
       "12         0       3                      Mr. William Henry Saundercock   \n",
       "13         0       3                         Mr. Anders Johan Andersson   \n",
       "14         0       3                Miss. Hulda Amanda Adolfina Vestrom   \n",
       "16         0       3                                Master. Eugene Rice   \n",
       "18         0       3  Mrs. Julius (Emelia Maria Vandemoortele) Vande...   \n",
       "19         1       3                             Mrs. Fatima Masselmani   \n",
       "22         1       3                                 Miss. Anna McGowan   \n",
       "24         0       3                       Miss. Torborg Danira Palsson   \n",
       "25         1       3  Mrs. Carl Oscar (Selma Augusta Emilia Johansso...   \n",
       "26         0       3                             Mr. Farred Chehab Emir   \n",
       "28         1       3                                Miss. Ellen O'Dwyer   \n",
       "29         0       3                                 Mr. Lalio Todoroff   \n",
       "\n",
       "       Sex  Age  Siblings/Spouses Aboard  Parents/Children Aboard     Fare  \n",
       "0     male   22                        1                        0   7.2500  \n",
       "2   female   26                        0                        0   7.9250  \n",
       "4     male   35                        0                        0   8.0500  \n",
       "5     male   27                        0                        0   8.4583  \n",
       "7     male    2                        3                        1  21.0750  \n",
       "8   female   27                        0                        2  11.1333  \n",
       "10  female    4                        1                        1  16.7000  \n",
       "12    male   20                        0                        0   8.0500  \n",
       "13    male   39                        1                        5  31.2750  \n",
       "14  female   14                        0                        0   7.8542  \n",
       "16    male    2                        4                        1  29.1250  \n",
       "18  female   31                        1                        0  18.0000  \n",
       "19  female   22                        0                        0   7.2250  \n",
       "22  female   15                        0                        0   8.0292  \n",
       "24  female    8                        3                        1  21.0750  \n",
       "25  female   38                        1                        5  31.3875  \n",
       "26    male   26                        0                        0   7.2250  \n",
       "28  female   24                        0                        0   7.8792  \n",
       "29    male   23                        0                        0   7.8958  "
      ]
     },
     "execution_count": 7,
     "metadata": {},
     "output_type": "execute_result"
    }
   ],
   "source": [
    "df.loc[df['Pclass']==3]"
   ]
  },
  {
   "cell_type": "markdown",
   "metadata": {},
   "source": [
    "# convert the SQL data to embeddings"
   ]
  },
  {
   "cell_type": "code",
   "execution_count": 8,
   "metadata": {},
   "outputs": [],
   "source": [
    "docs=[]\n",
    "metadatas=[]\n",
    "ids=[]\n",
    "embeddings=[]\n",
    "\n",
    "azure_client=AzureOpenAI(\n",
    "    api_key=azure_open_api_key,\n",
    "    api_version=azure_openai_api_version,\n",
    "    azure_endpoint=os.getenv('AZURE_OPENAI_EMBEDDINGS_ENDPOINT')\n",
    ")\n",
    "\n",
    "for index,row in df.iterrows():\n",
    "    output_str=''\n",
    "    # treat each row as a seperate chunk\n",
    "    for col in df.columns:\n",
    "        output_str+=f'{col}:{row[col]},\\n'\n",
    "    response=azure_client.embeddings.create(\n",
    "        input=output_str,\n",
    "        model='text-embedding-ada-002'\n",
    "    )\n",
    "    embeddings.append(response.data[0].embedding)\n",
    "    docs.append(output_str)\n",
    "    metadatas.append({'source':'titanic_small'})\n",
    "    ids.append(f'id{index}')\n"
   ]
  },
  {
   "cell_type": "code",
   "execution_count": 9,
   "metadata": {},
   "outputs": [
    {
     "data": {
      "text/plain": [
       "['Survived:0,\\nPclass:3,\\nName:Mr. Owen Harris Braund,\\nSex:male,\\nAge:22,\\nSiblings/Spouses Aboard:1,\\nParents/Children Aboard:0,\\nFare:7.25,\\n',\n",
       " 'Survived:1,\\nPclass:1,\\nName:Mrs. John Bradley (Florence Briggs Thayer) Cumings,\\nSex:female,\\nAge:38,\\nSiblings/Spouses Aboard:1,\\nParents/Children Aboard:0,\\nFare:71.2833,\\n',\n",
       " 'Survived:1,\\nPclass:3,\\nName:Miss. Laina Heikkinen,\\nSex:female,\\nAge:26,\\nSiblings/Spouses Aboard:0,\\nParents/Children Aboard:0,\\nFare:7.925,\\n',\n",
       " 'Survived:1,\\nPclass:1,\\nName:Mrs. Jacques Heath (Lily May Peel) Futrelle,\\nSex:female,\\nAge:35,\\nSiblings/Spouses Aboard:1,\\nParents/Children Aboard:0,\\nFare:53.1,\\n',\n",
       " 'Survived:0,\\nPclass:3,\\nName:Mr. William Henry Allen,\\nSex:male,\\nAge:35,\\nSiblings/Spouses Aboard:0,\\nParents/Children Aboard:0,\\nFare:8.05,\\n',\n",
       " 'Survived:0,\\nPclass:3,\\nName:Mr. James Moran,\\nSex:male,\\nAge:27,\\nSiblings/Spouses Aboard:0,\\nParents/Children Aboard:0,\\nFare:8.4583,\\n',\n",
       " 'Survived:0,\\nPclass:1,\\nName:Mr. Timothy J McCarthy,\\nSex:male,\\nAge:54,\\nSiblings/Spouses Aboard:0,\\nParents/Children Aboard:0,\\nFare:51.8625,\\n',\n",
       " 'Survived:0,\\nPclass:3,\\nName:Master. Gosta Leonard Palsson,\\nSex:male,\\nAge:2,\\nSiblings/Spouses Aboard:3,\\nParents/Children Aboard:1,\\nFare:21.075,\\n',\n",
       " 'Survived:1,\\nPclass:3,\\nName:Mrs. Oscar W (Elisabeth Vilhelmina Berg) Johnson,\\nSex:female,\\nAge:27,\\nSiblings/Spouses Aboard:0,\\nParents/Children Aboard:2,\\nFare:11.1333,\\n',\n",
       " 'Survived:1,\\nPclass:2,\\nName:Mrs. Nicholas (Adele Achem) Nasser,\\nSex:female,\\nAge:14,\\nSiblings/Spouses Aboard:1,\\nParents/Children Aboard:0,\\nFare:30.0708,\\n',\n",
       " 'Survived:1,\\nPclass:3,\\nName:Miss. Marguerite Rut Sandstrom,\\nSex:female,\\nAge:4,\\nSiblings/Spouses Aboard:1,\\nParents/Children Aboard:1,\\nFare:16.7,\\n',\n",
       " 'Survived:1,\\nPclass:1,\\nName:Miss. Elizabeth Bonnell,\\nSex:female,\\nAge:58,\\nSiblings/Spouses Aboard:0,\\nParents/Children Aboard:0,\\nFare:26.55,\\n',\n",
       " 'Survived:0,\\nPclass:3,\\nName:Mr. William Henry Saundercock,\\nSex:male,\\nAge:20,\\nSiblings/Spouses Aboard:0,\\nParents/Children Aboard:0,\\nFare:8.05,\\n',\n",
       " 'Survived:0,\\nPclass:3,\\nName:Mr. Anders Johan Andersson,\\nSex:male,\\nAge:39,\\nSiblings/Spouses Aboard:1,\\nParents/Children Aboard:5,\\nFare:31.275,\\n',\n",
       " 'Survived:0,\\nPclass:3,\\nName:Miss. Hulda Amanda Adolfina Vestrom,\\nSex:female,\\nAge:14,\\nSiblings/Spouses Aboard:0,\\nParents/Children Aboard:0,\\nFare:7.8542,\\n',\n",
       " 'Survived:1,\\nPclass:2,\\nName:Mrs. (Mary D Kingcome) Hewlett,\\nSex:female,\\nAge:55,\\nSiblings/Spouses Aboard:0,\\nParents/Children Aboard:0,\\nFare:16.0,\\n',\n",
       " 'Survived:0,\\nPclass:3,\\nName:Master. Eugene Rice,\\nSex:male,\\nAge:2,\\nSiblings/Spouses Aboard:4,\\nParents/Children Aboard:1,\\nFare:29.125,\\n',\n",
       " 'Survived:1,\\nPclass:2,\\nName:Mr. Charles Eugene Williams,\\nSex:male,\\nAge:23,\\nSiblings/Spouses Aboard:0,\\nParents/Children Aboard:0,\\nFare:13.0,\\n',\n",
       " 'Survived:0,\\nPclass:3,\\nName:Mrs. Julius (Emelia Maria Vandemoortele) Vander Planke,\\nSex:female,\\nAge:31,\\nSiblings/Spouses Aboard:1,\\nParents/Children Aboard:0,\\nFare:18.0,\\n',\n",
       " 'Survived:1,\\nPclass:3,\\nName:Mrs. Fatima Masselmani,\\nSex:female,\\nAge:22,\\nSiblings/Spouses Aboard:0,\\nParents/Children Aboard:0,\\nFare:7.225,\\n',\n",
       " 'Survived:0,\\nPclass:2,\\nName:Mr. Joseph J Fynney,\\nSex:male,\\nAge:35,\\nSiblings/Spouses Aboard:0,\\nParents/Children Aboard:0,\\nFare:26.0,\\n',\n",
       " 'Survived:1,\\nPclass:2,\\nName:Mr. Lawrence Beesley,\\nSex:male,\\nAge:34,\\nSiblings/Spouses Aboard:0,\\nParents/Children Aboard:0,\\nFare:13.0,\\n',\n",
       " 'Survived:1,\\nPclass:3,\\nName:Miss. Anna McGowan,\\nSex:female,\\nAge:15,\\nSiblings/Spouses Aboard:0,\\nParents/Children Aboard:0,\\nFare:8.0292,\\n',\n",
       " 'Survived:1,\\nPclass:1,\\nName:Mr. William Thompson Sloper,\\nSex:male,\\nAge:28,\\nSiblings/Spouses Aboard:0,\\nParents/Children Aboard:0,\\nFare:35.5,\\n',\n",
       " 'Survived:0,\\nPclass:3,\\nName:Miss. Torborg Danira Palsson,\\nSex:female,\\nAge:8,\\nSiblings/Spouses Aboard:3,\\nParents/Children Aboard:1,\\nFare:21.075,\\n',\n",
       " 'Survived:1,\\nPclass:3,\\nName:Mrs. Carl Oscar (Selma Augusta Emilia Johansson) Asplund,\\nSex:female,\\nAge:38,\\nSiblings/Spouses Aboard:1,\\nParents/Children Aboard:5,\\nFare:31.3875,\\n',\n",
       " 'Survived:0,\\nPclass:3,\\nName:Mr. Farred Chehab Emir,\\nSex:male,\\nAge:26,\\nSiblings/Spouses Aboard:0,\\nParents/Children Aboard:0,\\nFare:7.225,\\n',\n",
       " 'Survived:0,\\nPclass:1,\\nName:Mr. Charles Alexander Fortune,\\nSex:male,\\nAge:19,\\nSiblings/Spouses Aboard:3,\\nParents/Children Aboard:2,\\nFare:263.0,\\n',\n",
       " \"Survived:1,\\nPclass:3,\\nName:Miss. Ellen O'Dwyer,\\nSex:female,\\nAge:24,\\nSiblings/Spouses Aboard:0,\\nParents/Children Aboard:0,\\nFare:7.8792,\\n\",\n",
       " 'Survived:0,\\nPclass:3,\\nName:Mr. Lalio Todoroff,\\nSex:male,\\nAge:23,\\nSiblings/Spouses Aboard:0,\\nParents/Children Aboard:0,\\nFare:7.8958,\\n']"
      ]
     },
     "execution_count": 9,
     "metadata": {},
     "output_type": "execute_result"
    }
   ],
   "source": [
    "docs"
   ]
  },
  {
   "cell_type": "code",
   "execution_count": 10,
   "metadata": {},
   "outputs": [
    {
     "name": "stdout",
     "output_type": "stream",
     "text": [
      "[{'source': 'titanic_small'}, {'source': 'titanic_small'}, {'source': 'titanic_small'}, {'source': 'titanic_small'}, {'source': 'titanic_small'}, {'source': 'titanic_small'}, {'source': 'titanic_small'}, {'source': 'titanic_small'}, {'source': 'titanic_small'}, {'source': 'titanic_small'}, {'source': 'titanic_small'}, {'source': 'titanic_small'}, {'source': 'titanic_small'}, {'source': 'titanic_small'}, {'source': 'titanic_small'}, {'source': 'titanic_small'}, {'source': 'titanic_small'}, {'source': 'titanic_small'}, {'source': 'titanic_small'}, {'source': 'titanic_small'}, {'source': 'titanic_small'}, {'source': 'titanic_small'}, {'source': 'titanic_small'}, {'source': 'titanic_small'}, {'source': 'titanic_small'}, {'source': 'titanic_small'}, {'source': 'titanic_small'}, {'source': 'titanic_small'}, {'source': 'titanic_small'}, {'source': 'titanic_small'}]\n",
      "['id0', 'id1', 'id2', 'id3', 'id4', 'id5', 'id6', 'id7', 'id8', 'id9', 'id10', 'id11', 'id12', 'id13', 'id14', 'id15', 'id16', 'id17', 'id18', 'id19', 'id20', 'id21', 'id22', 'id23', 'id24', 'id25', 'id26', 'id27', 'id28', 'id29']\n"
     ]
    }
   ],
   "source": [
    "print(metadatas)\n",
    "print(ids)"
   ]
  },
  {
   "cell_type": "code",
   "execution_count": 11,
   "metadata": {},
   "outputs": [
    {
     "data": {
      "text/plain": [
       "[-0.005806858651340008,\n",
       " -0.022392014041543007,\n",
       " -0.017091887071728706,\n",
       " -0.025856956839561462,\n",
       " 0.004077811725437641,\n",
       " 0.036484602838754654,\n",
       " -0.014421279542148113,\n",
       " -0.0008816428016871214,\n",
       " -0.02277548611164093,\n",
       " -0.018639469519257545]"
      ]
     },
     "execution_count": 11,
     "metadata": {},
     "output_type": "execute_result"
    }
   ],
   "source": [
    "embeddings[0][:10]"
   ]
  },
  {
   "cell_type": "code",
   "execution_count": 12,
   "metadata": {},
   "outputs": [],
   "source": [
    "collection.add(\n",
    "    documents=docs,\n",
    "    metadatas=metadatas,\n",
    "    embeddings=embeddings,\n",
    "    ids=ids\n",
    ")"
   ]
  },
  {
   "cell_type": "code",
   "execution_count": 13,
   "metadata": {},
   "outputs": [
    {
     "name": "stdout",
     "output_type": "stream",
     "text": [
      "30\n"
     ]
    }
   ],
   "source": [
    "print(collection.count())"
   ]
  },
  {
   "cell_type": "markdown",
   "metadata": {},
   "source": [
    "# RAG operations"
   ]
  },
  {
   "cell_type": "code",
   "execution_count": 14,
   "metadata": {},
   "outputs": [],
   "source": [
    "from openai import AzureOpenAI\n"
   ]
  },
  {
   "cell_type": "code",
   "execution_count": 15,
   "metadata": {},
   "outputs": [],
   "source": [
    "model_name=os.getenv('AZURE_OPENAI_DEPLOYMENT_MODEL')\n",
    "azure_openai_api_key=os.getenv('AZURE_OPENAI_API_KEY')\n",
    "azure_openai_endpoint=os.getenv('AZURE_OpenAI_ENDPOINT')\n",
    "azure_client=AzureOpenAI(\n",
    "    api_key=azure_open_api_key,\n",
    "    api_version=azure_openai_api_version,\n",
    "    azure_endpoint=os.getenv('AZURE_OPENAI_EMBEDDINGS_ENDPOINT')\n",
    ")\n",
    "llm=AzureOpenAI(\n",
    "    api_version=os.getenv('AZURE_OpenAI_API_VERSION'),\n",
    "    azure_endpoint=azure_openai_endpoint,\n",
    "    api_key=os.getenv('AZURE_OPENAI_API_KEY')\n",
    ")"
   ]
  },
  {
   "cell_type": "code",
   "execution_count": 16,
   "metadata": {},
   "outputs": [],
   "source": [
    "query_texts='what is the maximum age of a male survivor'\n",
    "response=azure_client.embeddings.create(\n",
    "    input=query_texts,\n",
    "    model='text-embedding-ada-002'\n",
    ")\n",
    "query_embeddings=response.data[0].embedding\n"
   ]
  },
  {
   "cell_type": "markdown",
   "metadata": {},
   "source": [
    "# load the chromaDB collection for vector search"
   ]
  },
  {
   "cell_type": "code",
   "execution_count": 17,
   "metadata": {},
   "outputs": [],
   "source": [
    "vectordb=chroma_client.get_collection(name='titanic_small')"
   ]
  },
  {
   "cell_type": "code",
   "execution_count": 18,
   "metadata": {},
   "outputs": [
    {
     "data": {
      "text/plain": [
       "{'ids': [['id23']],\n",
       " 'distances': [[0.47334641130996247]],\n",
       " 'metadatas': [[{'source': 'titanic_small'}]],\n",
       " 'embeddings': None,\n",
       " 'documents': [['Survived:1,\\nPclass:1,\\nName:Mr. William Thompson Sloper,\\nSex:male,\\nAge:28,\\nSiblings/Spouses Aboard:0,\\nParents/Children Aboard:0,\\nFare:35.5,\\n']],\n",
       " 'uris': None,\n",
       " 'data': None,\n",
       " 'included': ['metadatas', 'documents', 'distances']}"
      ]
     },
     "execution_count": 18,
     "metadata": {},
     "output_type": "execute_result"
    }
   ],
   "source": [
    "result=vectordb.query(\n",
    "    query_embeddings=query_embeddings,\n",
    "    n_results=1\n",
    ")\n",
    "result"
   ]
  },
  {
   "cell_type": "code",
   "execution_count": 19,
   "metadata": {},
   "outputs": [],
   "source": [
    "system_role = \"You will recieve the user's question along with the search results of that question over a database. Give the user the proper answer.\"\n",
    "prompt = f\"User's question: {query_texts} \\n\\n Search results:\\n {result}\"\n",
    "\n",
    "message=[\n",
    "    {\n",
    "        'role':'system','content':str(system_role)\n",
    "    },\n",
    "    {\n",
    "        'role':'user','content':prompt\n",
    "    }\n",
    "]"
   ]
  },
  {
   "cell_type": "code",
   "execution_count": 20,
   "metadata": {},
   "outputs": [],
   "source": [
    "response=llm.chat.completions.create(\n",
    "    model=os.getenv('AZURE_OPENAI_DEPLOYMENT_MODEL'),\n",
    "    messages=message\n",
    ")\n"
   ]
  },
  {
   "cell_type": "code",
   "execution_count": 21,
   "metadata": {},
   "outputs": [
    {
     "data": {
      "text/plain": [
       "'The maximum age of a male survivor in the given database is 28.'"
      ]
     },
     "execution_count": 21,
     "metadata": {},
     "output_type": "execute_result"
    }
   ],
   "source": [
    "response.choices[0].message.content"
   ]
  },
  {
   "cell_type": "markdown",
   "metadata": {},
   "source": [
    "# fact check\n",
    "\n",
    "- below response is totally incorrect\n",
    "- therefore we choose SQL agent for this scenario"
   ]
  },
  {
   "cell_type": "code",
   "execution_count": 28,
   "metadata": {},
   "outputs": [
    {
     "name": "stdout",
     "output_type": "stream",
     "text": [
      "    Survived  Pclass                     Name     Sex  Age  \\\n",
      "11         1       1  Miss. Elizabeth Bonnell  female   58   \n",
      "\n",
      "    Siblings/Spouses Aboard  Parents/Children Aboard   Fare  \n",
      "11                        0                        0  26.55  \n"
     ]
    }
   ],
   "source": [
    "print(df.loc[(df['Survived']==1) & (df['Age']==max(df['Age'] ) )])\n",
    "#& df['Sex']=='male'"
   ]
  },
  {
   "cell_type": "code",
   "execution_count": null,
   "metadata": {},
   "outputs": [],
   "source": []
  }
 ],
 "metadata": {
  "kernelspec": {
   "display_name": "pytorch",
   "language": "python",
   "name": "python3"
  },
  "language_info": {
   "codemirror_mode": {
    "name": "ipython",
    "version": 3
   },
   "file_extension": ".py",
   "mimetype": "text/x-python",
   "name": "python",
   "nbconvert_exporter": "python",
   "pygments_lexer": "ipython3",
   "version": "3.9.19"
  }
 },
 "nbformat": 4,
 "nbformat_minor": 2
}
